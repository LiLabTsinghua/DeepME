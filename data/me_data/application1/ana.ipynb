{
 "cells": [
  {
   "cell_type": "code",
   "execution_count": 1,
   "metadata": {},
   "outputs": [],
   "source": [
    "import pandas as pd"
   ]
  },
  {
   "cell_type": "code",
   "execution_count": 29,
   "metadata": {},
   "outputs": [],
   "source": [
    "import pandas as pd\n",
    "import numpy as np\n",
    "from tqdm import tqdm\n",
    "import random\n",
    "\n",
    "def random_neg(df, gene, meta,positive_triples,):\n",
    "    df = df.copy()\n",
    "    negative_samples = []\n",
    "    # 生成3个破坏头实体的负样本\n",
    "    # for _, row in df.iterrows():\n",
    "    #     from_entity = row['from']\n",
    "    #     rel = row['rel']\n",
    "    #     to_entity = row['to']\n",
    "        \n",
    "    #     # 生成3个破坏头实体的负样本\n",
    "    #     for _ in range(6):\n",
    "    #         neg_from = random.choice(list(gene))\n",
    "    #         if (neg_from, rel, to_entity) not in positive_triples:\n",
    "    #             negative_samples.append({'from': neg_from, 'rel': rel, 'to': to_entity, 'label': 0})\n",
    "    \n",
    "    for _, row in df.iterrows():\n",
    "        from_entity = row['from']\n",
    "        rel = row['rel']\n",
    "        to_entity = row['to']\n",
    "        \n",
    "        # 生成3个破坏头实体的负样本\n",
    "        for _ in range(6):\n",
    "            neg_to = random.choice(list(meta))\n",
    "            if (from_entity, rel, neg_to) not in positive_triples:\n",
    "                negative_samples.append({'from': from_entity, 'rel': rel, 'to': neg_to, 'label': 0})\n",
    "\n",
    "    return negative_samples\n",
    "\n",
    "def negative_sampling_df(positive_triples, df, gene, meta):    \n",
    "    # 创建正样本的三元组集合，便于后续检查是否为正样本 \n",
    "    neg = random_neg(df, gene, meta, positive_triples)\n",
    "    # 将正样本加入到负样本中，标记为label=1\n",
    "    for _, row in df.iterrows():\n",
    "        neg.append({'from': row['from'], 'rel': row['rel'], 'to': row['to'], 'label': 1})\n",
    "    \n",
    "    # 返回包含正负样本的 DataFrame\n",
    "    return pd.DataFrame(neg)\n",
    "\n",
    "def negative_sampling(train, gene, meta):    \n",
    "    # 创建正样本的三元组集合，便于后续检查是否为正样本\n",
    "    all = train\n",
    "    positive_triples = set(zip(all['from'], all['rel'], all['to']))\n",
    "    train_plus_neg = negative_sampling_df(positive_triples, train, gene, meta)\n",
    "    \n",
    "    # 返回包含正负样本的 DataFrame\n",
    "    return train_plus_neg"
   ]
  },
  {
   "cell_type": "code",
   "execution_count": 30,
   "metadata": {},
   "outputs": [
    {
     "data": {
      "text/plain": [
       "(4136, 1451, 1044, 2685)"
      ]
     },
     "execution_count": 30,
     "metadata": {},
     "output_type": "execute_result"
    }
   ],
   "source": [
    "kg = pd.read_csv('/home/shengkun/repo/DeepME/data/KG/ECO/kg.txt',sep='\\t',names=['from','rel','to'])\n",
    "ent = set(kg['from']).union(set(kg['to']))\n",
    "all_gene = [x for x in ent if x.startswith('ECO_Protein')]\n",
    "gene_w_rule = set(kg[kg['rel'] == 'Catalyzes']['from'])\n",
    "gene_wo_rule = set(all_gene) - gene_w_rule\n",
    "meta = set(kg[kg['rel'].isin(['Consumes','Produces'])]['to'])\n",
    "meta = [x for x in meta if x.endswith('_c')]\n",
    "len(all_gene), len(gene_w_rule), len(meta), len(gene_wo_rule)"
   ]
  },
  {
   "cell_type": "code",
   "execution_count": 34,
   "metadata": {},
   "outputs": [
    {
     "data": {
      "text/html": [
       "<div>\n",
       "<style scoped>\n",
       "    .dataframe tbody tr th:only-of-type {\n",
       "        vertical-align: middle;\n",
       "    }\n",
       "\n",
       "    .dataframe tbody tr th {\n",
       "        vertical-align: top;\n",
       "    }\n",
       "\n",
       "    .dataframe thead th {\n",
       "        text-align: right;\n",
       "    }\n",
       "</style>\n",
       "<table border=\"1\" class=\"dataframe\">\n",
       "  <thead>\n",
       "    <tr style=\"text-align: right;\">\n",
       "      <th></th>\n",
       "      <th>from</th>\n",
       "      <th>rel</th>\n",
       "      <th>to</th>\n",
       "      <th>label</th>\n",
       "    </tr>\n",
       "  </thead>\n",
       "  <tbody>\n",
       "    <tr>\n",
       "      <th>0</th>\n",
       "      <td>ECO_Protein:P0ABP8</td>\n",
       "      <td>knock out</td>\n",
       "      <td>Metabolite:ac_c</td>\n",
       "      <td>0</td>\n",
       "    </tr>\n",
       "    <tr>\n",
       "      <th>1</th>\n",
       "      <td>ECO_Protein:P0AB80</td>\n",
       "      <td>knock out</td>\n",
       "      <td>Metabolite:ac_c</td>\n",
       "      <td>0</td>\n",
       "    </tr>\n",
       "    <tr>\n",
       "      <th>2</th>\n",
       "      <td>ECO_Protein:P37689</td>\n",
       "      <td>knock out</td>\n",
       "      <td>Metabolite:ac_c</td>\n",
       "      <td>0</td>\n",
       "    </tr>\n",
       "    <tr>\n",
       "      <th>3</th>\n",
       "      <td>ECO_Protein:P17443</td>\n",
       "      <td>knock out</td>\n",
       "      <td>Metabolite:arg__L_c</td>\n",
       "      <td>0</td>\n",
       "    </tr>\n",
       "    <tr>\n",
       "      <th>4</th>\n",
       "      <td>ECO_Protein:P09831</td>\n",
       "      <td>knock out</td>\n",
       "      <td>Metabolite:arg__L_c</td>\n",
       "      <td>0</td>\n",
       "    </tr>\n",
       "    <tr>\n",
       "      <th>...</th>\n",
       "      <td>...</td>\n",
       "      <td>...</td>\n",
       "      <td>...</td>\n",
       "      <td>...</td>\n",
       "    </tr>\n",
       "    <tr>\n",
       "      <th>2182</th>\n",
       "      <td>ECO_Protein:P11667</td>\n",
       "      <td>overexpress</td>\n",
       "      <td>Metabolite:arg__L_c</td>\n",
       "      <td>1</td>\n",
       "    </tr>\n",
       "    <tr>\n",
       "      <th>2183</th>\n",
       "      <td>ECO_Protein:P0A6C5</td>\n",
       "      <td>knock out</td>\n",
       "      <td>Metabolite:arg__L_c</td>\n",
       "      <td>1</td>\n",
       "    </tr>\n",
       "    <tr>\n",
       "      <th>2184</th>\n",
       "      <td>ECO_Protein:P21169</td>\n",
       "      <td>knock out</td>\n",
       "      <td>Metabolite:arg__L_c</td>\n",
       "      <td>1</td>\n",
       "    </tr>\n",
       "    <tr>\n",
       "      <th>2185</th>\n",
       "      <td>ECO_Protein:P24169</td>\n",
       "      <td>knock out</td>\n",
       "      <td>Metabolite:arg__L_c</td>\n",
       "      <td>1</td>\n",
       "    </tr>\n",
       "    <tr>\n",
       "      <th>2186</th>\n",
       "      <td>ECO_Protein:P00944</td>\n",
       "      <td>knock out</td>\n",
       "      <td>Metabolite:succ_c</td>\n",
       "      <td>1</td>\n",
       "    </tr>\n",
       "  </tbody>\n",
       "</table>\n",
       "<p>2187 rows × 4 columns</p>\n",
       "</div>"
      ],
      "text/plain": [
       "                    from          rel                   to  label\n",
       "0     ECO_Protein:P0ABP8    knock out      Metabolite:ac_c      0\n",
       "1     ECO_Protein:P0AB80    knock out      Metabolite:ac_c      0\n",
       "2     ECO_Protein:P37689    knock out      Metabolite:ac_c      0\n",
       "3     ECO_Protein:P17443    knock out  Metabolite:arg__L_c      0\n",
       "4     ECO_Protein:P09831    knock out  Metabolite:arg__L_c      0\n",
       "...                  ...          ...                  ...    ...\n",
       "2182  ECO_Protein:P11667  overexpress  Metabolite:arg__L_c      1\n",
       "2183  ECO_Protein:P0A6C5    knock out  Metabolite:arg__L_c      1\n",
       "2184  ECO_Protein:P21169    knock out  Metabolite:arg__L_c      1\n",
       "2185  ECO_Protein:P24169    knock out  Metabolite:arg__L_c      1\n",
       "2186  ECO_Protein:P00944    knock out    Metabolite:succ_c      1\n",
       "\n",
       "[2187 rows x 4 columns]"
      ]
     },
     "execution_count": 34,
     "metadata": {},
     "output_type": "execute_result"
    }
   ],
   "source": [
    "eco_before_2023 = pd.read_csv('/home/shengkun/repo/DeepME/data/me_data/train_data/eco_before_2023_all.txt',sep='\\t',names=['from','rel','to'])\n",
    "from collections import Counter\n",
    "\n",
    "head_from_counter = Counter(eco_before_2023['from'])\n",
    "tail_from_counter = Counter(eco_before_2023['to'])\n",
    "\n",
    "test = pd.read_csv('./test.txt',sep='\\t',names=['from','rel','to','label'])\n",
    "test['head_count'] = [head_from_counter[x] for x in list(test['from'])]\n",
    "test['tail_count'] = [tail_from_counter[x] for x in list(test['to'])]\n",
    "test"
   ]
  },
  {
   "cell_type": "code",
   "execution_count": 36,
   "metadata": {},
   "outputs": [
    {
     "data": {
      "text/html": [
       "<div>\n",
       "<style scoped>\n",
       "    .dataframe tbody tr th:only-of-type {\n",
       "        vertical-align: middle;\n",
       "    }\n",
       "\n",
       "    .dataframe tbody tr th {\n",
       "        vertical-align: top;\n",
       "    }\n",
       "\n",
       "    .dataframe thead th {\n",
       "        text-align: right;\n",
       "    }\n",
       "</style>\n",
       "<table border=\"1\" class=\"dataframe\">\n",
       "  <thead>\n",
       "    <tr style=\"text-align: right;\">\n",
       "      <th></th>\n",
       "      <th>from</th>\n",
       "      <th>rel</th>\n",
       "      <th>to</th>\n",
       "    </tr>\n",
       "  </thead>\n",
       "  <tbody>\n",
       "    <tr>\n",
       "      <th>0</th>\n",
       "      <td>ECO_Protein:P0AFG3</td>\n",
       "      <td>knock out</td>\n",
       "      <td>Metabolite:4abut_c</td>\n",
       "    </tr>\n",
       "    <tr>\n",
       "      <th>1</th>\n",
       "      <td>ECO_Protein:P52643</td>\n",
       "      <td>knock out</td>\n",
       "      <td>Metabolite:fum_c</td>\n",
       "    </tr>\n",
       "    <tr>\n",
       "      <th>2</th>\n",
       "      <td>ECO_Protein:P16095</td>\n",
       "      <td>knock out</td>\n",
       "      <td>Metabolite:ser__L_c</td>\n",
       "    </tr>\n",
       "    <tr>\n",
       "      <th>3</th>\n",
       "      <td>ECO_Protein:P0A9M8</td>\n",
       "      <td>knock out</td>\n",
       "      <td>Metabolite:trp__L_c</td>\n",
       "    </tr>\n",
       "    <tr>\n",
       "      <th>4</th>\n",
       "      <td>ECO_Protein:P15993</td>\n",
       "      <td>knock out</td>\n",
       "      <td>Metabolite:tyr__L_c</td>\n",
       "    </tr>\n",
       "    <tr>\n",
       "      <th>...</th>\n",
       "      <td>...</td>\n",
       "      <td>...</td>\n",
       "      <td>...</td>\n",
       "    </tr>\n",
       "    <tr>\n",
       "      <th>1287</th>\n",
       "      <td>ECO_Protein:P0A6B4</td>\n",
       "      <td>overexpress</td>\n",
       "      <td>Metabolite:3hpp_c</td>\n",
       "    </tr>\n",
       "    <tr>\n",
       "      <th>1288</th>\n",
       "      <td>ECO_Protein:P0A9H3</td>\n",
       "      <td>overexpress</td>\n",
       "      <td>Metabolite:lys__L_c</td>\n",
       "    </tr>\n",
       "    <tr>\n",
       "      <th>1289</th>\n",
       "      <td>ECO_Protein:P0A9D4</td>\n",
       "      <td>overexpress</td>\n",
       "      <td>Metabolite:cys__L_c</td>\n",
       "    </tr>\n",
       "    <tr>\n",
       "      <th>1290</th>\n",
       "      <td>ECO_Protein:P00957</td>\n",
       "      <td>overexpress</td>\n",
       "      <td>Metabolite:5aop_c</td>\n",
       "    </tr>\n",
       "    <tr>\n",
       "      <th>1291</th>\n",
       "      <td>ECO_Protein:P0AC38</td>\n",
       "      <td>overexpress</td>\n",
       "      <td>Metabolite:succ_c</td>\n",
       "    </tr>\n",
       "  </tbody>\n",
       "</table>\n",
       "<p>1292 rows × 3 columns</p>\n",
       "</div>"
      ],
      "text/plain": [
       "                    from          rel                   to\n",
       "0     ECO_Protein:P0AFG3    knock out   Metabolite:4abut_c\n",
       "1     ECO_Protein:P52643    knock out     Metabolite:fum_c\n",
       "2     ECO_Protein:P16095    knock out  Metabolite:ser__L_c\n",
       "3     ECO_Protein:P0A9M8    knock out  Metabolite:trp__L_c\n",
       "4     ECO_Protein:P15993    knock out  Metabolite:tyr__L_c\n",
       "...                  ...          ...                  ...\n",
       "1287  ECO_Protein:P0A6B4  overexpress    Metabolite:3hpp_c\n",
       "1288  ECO_Protein:P0A9H3  overexpress  Metabolite:lys__L_c\n",
       "1289  ECO_Protein:P0A9D4  overexpress  Metabolite:cys__L_c\n",
       "1290  ECO_Protein:P00957  overexpress    Metabolite:5aop_c\n",
       "1291  ECO_Protein:P0AC38  overexpress    Metabolite:succ_c\n",
       "\n",
       "[1292 rows x 3 columns]"
      ]
     },
     "execution_count": 36,
     "metadata": {},
     "output_type": "execute_result"
    }
   ],
   "source": [
    "eco_before_2023"
   ]
  },
  {
   "cell_type": "code",
   "execution_count": 27,
   "metadata": {},
   "outputs": [],
   "source": [
    "unseen_met_triple = test[(test['tail_count'] == 0) & (test['label'] == 1)][['from','rel','to']]\n",
    "low_met_triple = test[(test['tail_count']>0) & (test['tail_count']<=5) & (test['label'] == 1)][['from','rel','to']]\n",
    "high_met_triple = test[(test['tail_count']>5) & (test['label'] == 1)][['from','rel','to']]\n",
    "\n",
    "unseen_gene_triple = test[(test['head_count'] == 0) & (test['label'] == 1)][['from','rel','to']]\n",
    "low_gene_triple = test[(test['head_count']>0) & (test['head_count']<=5) & (test['label'] == 1)][['from','rel','to']]\n",
    "high_gene_triple = test[(test['head_count']>5) & (test['label'] == 1)][['from','rel','to']]"
   ]
  },
  {
   "cell_type": "code",
   "execution_count": 20,
   "metadata": {},
   "outputs": [
    {
     "data": {
      "text/plain": [
       "(51, 74, 189)"
      ]
     },
     "execution_count": 20,
     "metadata": {},
     "output_type": "execute_result"
    }
   ],
   "source": [
    "len(unseen_met_triple), len(low_met_triple), len(high_met_triple)"
   ]
  },
  {
   "cell_type": "code",
   "execution_count": 32,
   "metadata": {},
   "outputs": [
    {
     "data": {
      "text/plain": [
       "(76, 127, 111)"
      ]
     },
     "execution_count": 32,
     "metadata": {},
     "output_type": "execute_result"
    }
   ],
   "source": [
    "len(unseen_gene_triple), len(low_gene_triple), len(high_gene_triple)"
   ]
  },
  {
   "cell_type": "code",
   "execution_count": 21,
   "metadata": {},
   "outputs": [],
   "source": [
    "test_unseen_met_head = negative_sampling(unseen_met_triple, gene_w_rule, meta)\n",
    "test_unseen_met_head.to_csv('./representional_split/test_unseen_met_head.txt',sep='\\t',index=False,header=False)\n",
    "test_low_met_head = negative_sampling(low_met_triple, gene_w_rule, meta)\n",
    "test_low_met_head.to_csv('./representional_split/test_low_met_head.txt',sep='\\t',index=False,header=False)\n",
    "test_high_met_head = negative_sampling(high_met_triple, gene_w_rule, meta)\n",
    "test_high_met_head.to_csv('./representional_split/test_high_met_head.txt',sep='\\t',index=False,header=False)"
   ]
  },
  {
   "cell_type": "code",
   "execution_count": 33,
   "metadata": {},
   "outputs": [],
   "source": [
    "test_unseen_gene_tail = negative_sampling(unseen_gene_triple, gene_w_rule, meta)\n",
    "test_unseen_gene_tail.to_csv('./representional_split/test_unseen_gene_tail.txt',sep='\\t',index=False,header=False)\n",
    "test_low_gene_tail = negative_sampling(low_gene_triple, gene_w_rule, meta)\n",
    "test_low_gene_tail.to_csv('./representional_split/test_low_gene_tail.txt',sep='\\t',index=False,header=False)\n",
    "test_high_gene_tail = negative_sampling(high_gene_triple, gene_w_rule, meta)\n",
    "test_high_gene_tail.to_csv('./representional_split/test_high_gene_tail.txt',sep='\\t',index=False,header=False)"
   ]
  }
 ],
 "metadata": {
  "kernelspec": {
   "display_name": "gear",
   "language": "python",
   "name": "python3"
  },
  "language_info": {
   "codemirror_mode": {
    "name": "ipython",
    "version": 3
   },
   "file_extension": ".py",
   "mimetype": "text/x-python",
   "name": "python",
   "nbconvert_exporter": "python",
   "pygments_lexer": "ipython3",
   "version": "3.8.0"
  }
 },
 "nbformat": 4,
 "nbformat_minor": 2
}
